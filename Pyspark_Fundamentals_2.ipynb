{
  "nbformat": 4,
  "nbformat_minor": 0,
  "metadata": {
    "colab": {
      "provenance": []
    },
    "kernelspec": {
      "name": "python3",
      "display_name": "Python 3"
    },
    "language_info": {
      "name": "python"
    }
  },
  "cells": [
    {
      "cell_type": "code",
      "execution_count": 2,
      "metadata": {
        "id": "UisXUt4T58wK"
      },
      "outputs": [],
      "source": [
        "# PySpark Basics Tutorial for Students\n",
        "\n",
        "# 1. Setup & SparkSession\n",
        "from pyspark.sql import SparkSession\n",
        "spark = SparkSession.builder.appName('Basics').getOrCreate()"
      ]
    },
    {
      "cell_type": "code",
      "source": [
        "# 2. Create DataFrame / Read CSV\n",
        "# Create a bigger DataFrame with more missing values\n",
        "data = [\n",
        "(\"Ali\", 25, \"M\"), (\"Sara\", 30, \"F\"), (\"John\", 22, \"M\"),\n",
        "(\"Emma\", None, \"F\"), (\"Mike\", 28, None), (\"Lily\", None, \"F\"),\n",
        "(\"Tom\", 35, \"M\"), (None, 40, \"M\"), (\"Anna\", 27, None), (\"David\", None, None)\n",
        "]\n",
        "columns = [\"Name\", \"Age\", \"Gender\"]\n",
        "df = spark.createDataFrame(data, columns)\n",
        "df.show()"
      ],
      "metadata": {
        "colab": {
          "base_uri": "https://localhost:8080/"
        },
        "id": "WtvvpVie6MUK",
        "outputId": "3ac9dd1a-6b12-4d27-871d-282ecfcf9192"
      },
      "execution_count": 3,
      "outputs": [
        {
          "output_type": "stream",
          "name": "stdout",
          "text": [
            "+-----+----+------+\n",
            "| Name| Age|Gender|\n",
            "+-----+----+------+\n",
            "|  Ali|  25|     M|\n",
            "| Sara|  30|     F|\n",
            "| John|  22|     M|\n",
            "| Emma|NULL|     F|\n",
            "| Mike|  28|  NULL|\n",
            "| Lily|NULL|     F|\n",
            "|  Tom|  35|     M|\n",
            "| NULL|  40|     M|\n",
            "| Anna|  27|  NULL|\n",
            "|David|NULL|  NULL|\n",
            "+-----+----+------+\n",
            "\n"
          ]
        }
      ]
    },
    {
      "cell_type": "code",
      "source": [
        "# 3. Select Columns\n",
        "df.select(\"Name\", \"Age\").show()"
      ],
      "metadata": {
        "colab": {
          "base_uri": "https://localhost:8080/"
        },
        "id": "vW8MESUD6gAy",
        "outputId": "6ce5d868-b409-4fba-8fc3-b8314359736b"
      },
      "execution_count": 4,
      "outputs": [
        {
          "output_type": "stream",
          "name": "stdout",
          "text": [
            "+-----+----+\n",
            "| Name| Age|\n",
            "+-----+----+\n",
            "|  Ali|  25|\n",
            "| Sara|  30|\n",
            "| John|  22|\n",
            "| Emma|NULL|\n",
            "| Mike|  28|\n",
            "| Lily|NULL|\n",
            "|  Tom|  35|\n",
            "| NULL|  40|\n",
            "| Anna|  27|\n",
            "|David|NULL|\n",
            "+-----+----+\n",
            "\n"
          ]
        }
      ]
    },
    {
      "cell_type": "code",
      "source": [
        "# 4. Filter Rows\n",
        "from pyspark.sql.functions import col\n",
        "\n",
        "df.filter(col(\"Age\") > 25).show()                    # Age > 25\n",
        "df.filter((col(\"Age\") > 20) & (col(\"Gender\") == \"F\")).show()   # Age > 20 AND Gender == F\n",
        "df.filter((col(\"Age\") < 30) | (col(\"Gender\") == \"M\")).show()   # Age < 30 OR Gender == M\n"
      ],
      "metadata": {
        "colab": {
          "base_uri": "https://localhost:8080/"
        },
        "id": "dgVXTDxP6lWX",
        "outputId": "30fe3efa-2a60-461e-cbb5-b5288f302066"
      },
      "execution_count": 10,
      "outputs": [
        {
          "output_type": "stream",
          "name": "stdout",
          "text": [
            "+----+------------+------+\n",
            "|Name|Age_original|Gender|\n",
            "+----+------------+------+\n",
            "|Sara|          30|     F|\n",
            "|Mike|          28|  NULL|\n",
            "| Tom|          35|     M|\n",
            "|NULL|          40|     M|\n",
            "|Anna|          27|  NULL|\n",
            "+----+------------+------+\n",
            "\n",
            "+----+------------+------+\n",
            "|Name|Age_original|Gender|\n",
            "+----+------------+------+\n",
            "|Sara|          30|     F|\n",
            "+----+------------+------+\n",
            "\n",
            "+----+------------+------+\n",
            "|Name|Age_original|Gender|\n",
            "+----+------------+------+\n",
            "| Ali|          25|     M|\n",
            "|John|          22|     M|\n",
            "|Mike|          28|  NULL|\n",
            "| Tom|          35|     M|\n",
            "|NULL|          40|     M|\n",
            "|Anna|          27|  NULL|\n",
            "+----+------------+------+\n",
            "\n"
          ]
        }
      ]
    },
    {
      "cell_type": "code",
      "source": [
        "# 5. Add, Rename, Drop Columns\n",
        "df = df.withColumn(\"Age_plus_5\", col(\"Age\") + 5)\n",
        "df = df.withColumnRenamed(\"Age\", \"Age_original\")\n",
        "df = df.drop(\"Age_plus_5\")\n",
        "df.show()"
      ],
      "metadata": {
        "colab": {
          "base_uri": "https://localhost:8080/"
        },
        "id": "AgwoFGlp6qAp",
        "outputId": "2ddc609c-4d11-4e09-9d68-d889689ee8ff"
      },
      "execution_count": 6,
      "outputs": [
        {
          "output_type": "stream",
          "name": "stdout",
          "text": [
            "+-----+------------+------+\n",
            "| Name|Age_original|Gender|\n",
            "+-----+------------+------+\n",
            "|  Ali|          25|     M|\n",
            "| Sara|          30|     F|\n",
            "| John|          22|     M|\n",
            "| Emma|        NULL|     F|\n",
            "| Mike|          28|  NULL|\n",
            "| Lily|        NULL|     F|\n",
            "|  Tom|          35|     M|\n",
            "| NULL|          40|     M|\n",
            "| Anna|          27|  NULL|\n",
            "|David|        NULL|  NULL|\n",
            "+-----+------------+------+\n",
            "\n"
          ]
        }
      ]
    },
    {
      "cell_type": "code",
      "source": [
        "missing_values_count = df.select([sum(col(c).isNull().cast(\"int\")).alias(c) for c in df.columns])\n",
        "missing_values_count.show()"
      ],
      "metadata": {
        "colab": {
          "base_uri": "https://localhost:8080/"
        },
        "id": "pcb2WX8O6wBL",
        "outputId": "fe597f10-c174-4502-d295-ddfddfb49888"
      },
      "execution_count": 13,
      "outputs": [
        {
          "output_type": "stream",
          "name": "stdout",
          "text": [
            "+----+------------+------+\n",
            "|Name|Age_original|Gender|\n",
            "+----+------------+------+\n",
            "|   1|           3|     3|\n",
            "+----+------------+------+\n",
            "\n"
          ]
        }
      ]
    },
    {
      "cell_type": "code",
      "source": [
        "# 6. Handle Missing Values\n",
        "\n",
        "\n",
        "from pyspark.sql.functions import col, mean, count, when\n",
        "\n",
        "\n",
        "# 6-1) Check missing values\n",
        "missing_values_count = df.select([sum(col(c).isNull().cast(\"int\")).alias(c) for c in df.columns])\n",
        "missing_values_count.show()\n",
        "\n",
        "\n",
        "# 6-2) Drop rows with any missing values\n",
        "df_drop = df.dropna()\n",
        "print(\"After dropping missing rows:\")\n",
        "df_drop.show()\n",
        "\n",
        "# 6-3) Fill missing numeric values with mean\n",
        "\n",
        "mean_age = df.select(mean(\"Age_original\")).first()[0]\n",
        "print(\"Mean of Age:\", mean_age)\n",
        "df_fill_numeric = df.fillna({\"Age_original\": mean_age})\n",
        "print(\"After filling numeric missing values with mean:\")\n",
        "df_fill_numeric.show()\n",
        "\n",
        "# 6-4) Fill missing categorical values with a suitable value\n",
        "# Here we can use 'Unknown' for missing names and gender\n",
        "df_fill_all = df_fill_numeric.fillna({\"Name\": \"Unknown\", \"Gender\": \"Unknown\"})\n",
        "print(\"After filling categorical missing values:\")\n",
        "df_fill_all.show()\n",
        "\n",
        "# 6-5) Alternative simple method: fill all missing values with constants\n",
        "df_fill_const = df.fillna({\"Name\": \"NoName\", \"Age_original\": 0, \"Gender\": \"U\"})\n",
        "print(\"After filling all missing with constants:\")\n",
        "df_fill_const.show()\n"
      ],
      "metadata": {
        "colab": {
          "base_uri": "https://localhost:8080/"
        },
        "id": "476TuiO69nnE",
        "outputId": "dbc153cb-0d2e-4f21-e675-c56174e44c95"
      },
      "execution_count": 21,
      "outputs": [
        {
          "output_type": "stream",
          "name": "stdout",
          "text": [
            "+----+------------+------+\n",
            "|Name|Age_original|Gender|\n",
            "+----+------------+------+\n",
            "|   1|           3|     3|\n",
            "+----+------------+------+\n",
            "\n",
            "After dropping missing rows:\n",
            "+----+------------+------+\n",
            "|Name|Age_original|Gender|\n",
            "+----+------------+------+\n",
            "| Ali|          25|     M|\n",
            "|Sara|          30|     F|\n",
            "|John|          22|     M|\n",
            "| Tom|          35|     M|\n",
            "+----+------------+------+\n",
            "\n",
            "Mean of Age: 29.571428571428573\n",
            "After filling numeric missing values with mean:\n",
            "+-----+------------+------+\n",
            "| Name|Age_original|Gender|\n",
            "+-----+------------+------+\n",
            "|  Ali|          25|     M|\n",
            "| Sara|          30|     F|\n",
            "| John|          22|     M|\n",
            "| Emma|          29|     F|\n",
            "| Mike|          28|  NULL|\n",
            "| Lily|          29|     F|\n",
            "|  Tom|          35|     M|\n",
            "| NULL|          40|     M|\n",
            "| Anna|          27|  NULL|\n",
            "|David|          29|  NULL|\n",
            "+-----+------------+------+\n",
            "\n",
            "After filling categorical missing values:\n",
            "+-------+------------+-------+\n",
            "|   Name|Age_original| Gender|\n",
            "+-------+------------+-------+\n",
            "|    Ali|          25|      M|\n",
            "|   Sara|          30|      F|\n",
            "|   John|          22|      M|\n",
            "|   Emma|          29|      F|\n",
            "|   Mike|          28|Unknown|\n",
            "|   Lily|          29|      F|\n",
            "|    Tom|          35|      M|\n",
            "|Unknown|          40|      M|\n",
            "|   Anna|          27|Unknown|\n",
            "|  David|          29|Unknown|\n",
            "+-------+------------+-------+\n",
            "\n",
            "After filling all missing with constants:\n",
            "+------+------------+------+\n",
            "|  Name|Age_original|Gender|\n",
            "+------+------------+------+\n",
            "|   Ali|          25|     M|\n",
            "|  Sara|          30|     F|\n",
            "|  John|          22|     M|\n",
            "|  Emma|           0|     F|\n",
            "|  Mike|          28|     U|\n",
            "|  Lily|           0|     F|\n",
            "|   Tom|          35|     M|\n",
            "|NoName|          40|     M|\n",
            "|  Anna|          27|     U|\n",
            "| David|           0|     U|\n",
            "+------+------------+------+\n",
            "\n"
          ]
        }
      ]
    },
    {
      "cell_type": "code",
      "source": [
        "# 7. Sort\n",
        "\n",
        "df.orderBy(\"Age_original\",descending=False).show()"
      ],
      "metadata": {
        "colab": {
          "base_uri": "https://localhost:8080/"
        },
        "id": "nCAT9FHgAeI8",
        "outputId": "d324d9a7-3be8-4a4f-e5da-299ea5601cc8"
      },
      "execution_count": 24,
      "outputs": [
        {
          "output_type": "stream",
          "name": "stdout",
          "text": [
            "+-----+------------+------+\n",
            "| Name|Age_original|Gender|\n",
            "+-----+------------+------+\n",
            "| Lily|        NULL|     F|\n",
            "| Emma|        NULL|     F|\n",
            "|David|        NULL|  NULL|\n",
            "| John|          22|     M|\n",
            "|  Ali|          25|     M|\n",
            "| Anna|          27|  NULL|\n",
            "| Mike|          28|  NULL|\n",
            "| Sara|          30|     F|\n",
            "|  Tom|          35|     M|\n",
            "| NULL|          40|     M|\n",
            "+-----+------------+------+\n",
            "\n"
          ]
        }
      ]
    },
    {
      "cell_type": "code",
      "source": [
        "# 8. GroupBy & Aggregate\n",
        "data2 = [\n",
        "(\"Math\", \"Ali\", 80), (\"Math\", \"Sara\", 90), (\"English\", \"Ali\", 85),\n",
        "(\"English\", \"Sara\", 95), (\"Math\", \"Mike\", 70), (\"English\", \"Emma\", 88)\n",
        "]\n",
        "columns2 = [\"Subject\", \"Name\", \"Score\"]\n",
        "df2 = spark.createDataFrame(data2, columns2)\n",
        "\n",
        "from pyspark.sql.functions import avg, sum, min, max, count, countDistinct\n",
        "# GroupBy with agg dictionary\n",
        "agg_dict = {\"Score\": \"avg\"}    #can be replaced with min, max, count\n",
        "df2.groupBy(\"Subject\").agg(agg_dict).show()\n"
      ],
      "metadata": {
        "colab": {
          "base_uri": "https://localhost:8080/"
        },
        "id": "8xiCwhjYBHsy",
        "outputId": "2d949b63-1985-47e8-fddd-313b45010d7a"
      },
      "execution_count": 33,
      "outputs": [
        {
          "output_type": "stream",
          "name": "stdout",
          "text": [
            "+-------+-----------------+\n",
            "|Subject|       avg(Score)|\n",
            "+-------+-----------------+\n",
            "|   Math|             80.0|\n",
            "|English|89.33333333333333|\n",
            "+-------+-----------------+\n",
            "\n"
          ]
        }
      ]
    },
    {
      "cell_type": "code",
      "source": [
        "# 9. Joins\n",
        "df1 = spark.createDataFrame([(\"Ali\", 25), (\"Sara\", 30), (\"Mike\", 28)], [\"Name\", \"Age\"])\n",
        "df1.show()\n",
        "df2 = spark.createDataFrame([(\"Ali\", \"M\"), (\"John\", \"M\"), (\"Mike\", \"M\")], [\"Name\", \"Gender\"])\n",
        "df2.show()\n",
        "\n",
        "# Inner Join\n",
        "print(\"Inner Join:\")\n",
        "df1.join(df2, on=\"Name\", how=\"inner\").show()\n",
        "\n",
        "# Left Join\n",
        "print(\"Left Join:\")\n",
        "df1.join(df2, on=\"Name\", how=\"left\").show()\n",
        "\n",
        "# Right Join\n",
        "print(\"Right Join:\")\n",
        "\n",
        "df1.join(df2, on=\"Name\", how=\"right\").show()\n",
        "\n"
      ],
      "metadata": {
        "colab": {
          "base_uri": "https://localhost:8080/"
        },
        "id": "6LJMtA9fDCZA",
        "outputId": "b09519b7-6d7a-43a9-a0c4-de347c55acd9"
      },
      "execution_count": 40,
      "outputs": [
        {
          "output_type": "stream",
          "name": "stdout",
          "text": [
            "+----+---+\n",
            "|Name|Age|\n",
            "+----+---+\n",
            "| Ali| 25|\n",
            "|Sara| 30|\n",
            "|Mike| 28|\n",
            "+----+---+\n",
            "\n",
            "+----+------+\n",
            "|Name|Gender|\n",
            "+----+------+\n",
            "| Ali|     M|\n",
            "|John|     M|\n",
            "|Mike|     M|\n",
            "+----+------+\n",
            "\n",
            "Inner Join:\n",
            "+----+---+------+\n",
            "|Name|Age|Gender|\n",
            "+----+---+------+\n",
            "| Ali| 25|     M|\n",
            "|Mike| 28|     M|\n",
            "+----+---+------+\n",
            "\n",
            "Left Join:\n",
            "+----+---+------+\n",
            "|Name|Age|Gender|\n",
            "+----+---+------+\n",
            "| Ali| 25|     M|\n",
            "|Mike| 28|     M|\n",
            "|Sara| 30|  NULL|\n",
            "+----+---+------+\n",
            "\n",
            "Right Join:\n",
            "+----+----+------+\n",
            "|Name| Age|Gender|\n",
            "+----+----+------+\n",
            "| Ali|  25|     M|\n",
            "|John|NULL|     M|\n",
            "|Mike|  28|     M|\n",
            "+----+----+------+\n",
            "\n"
          ]
        }
      ]
    },
    {
      "cell_type": "markdown",
      "source": [
        "# **Excersize**"
      ],
      "metadata": {
        "id": "KoUU1vxFEjDm"
      }
    },
    {
      "cell_type": "markdown",
      "source": [
        "# 10. Exercise for Students\n",
        "# 1. Create manually a CSV file with columns : CustomerID, Product, Quantity, Price and then read file into a dataframe\n",
        "# 2. Filter customers who bought more than 5 items\n",
        "# 3. Add a column \"TotalCost\" = Quantity * Price\n",
        "# 4. Handle missing Quantity and Price by filling with avg, and conastant\n",
        "# 5. Group by Product and calculate avg, sum, min, max, count of TotalCost\n",
        "# 6. Join (inner, left, and  right) with another CSV of Product details (ProductID, Category)"
      ],
      "metadata": {
        "id": "eQK9oVjwEhgQ"
      }
    },
    {
      "cell_type": "code",
      "source": [],
      "metadata": {
        "id": "EMi95KP7EgxV"
      },
      "execution_count": null,
      "outputs": []
    }
  ]
}