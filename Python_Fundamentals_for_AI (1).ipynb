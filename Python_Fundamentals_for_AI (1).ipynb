{
 "cells": [
  {
   "cell_type": "markdown",
   "id": "oo2ALAREyepf",
   "metadata": {
    "id": "oo2ALAREyepf"
   },
   "source": [
    "#  Python Fundamentals\n",
    "## Session 1: Essential Python & NumPy\n",
    "\n",
    "This notebook is designed to teach the **essential Python programming concepts** required for AI.\n",
    "It progresses smoothly from basic Python to NumPy, loops, conditionals, and functions, with practical examples."
   ]
  },
  {
   "cell_type": "markdown",
   "id": "aloVFZkKyepg",
   "metadata": {
    "id": "aloVFZkKyepg"
   },
   "source": [
    "## 1. Python Basics"
   ]
  },
  {
   "cell_type": "code",
   "execution_count": null,
   "id": "IZXB8giGyeph",
   "metadata": {
    "colab": {
     "base_uri": "https://localhost:8080/"
    },
    "id": "IZXB8giGyeph",
    "outputId": "348ef056-884d-43e7-f248-e491cbe0fbbd"
   },
   "outputs": [
    {
     "name": "stdout",
     "output_type": "stream",
     "text": [
      "x + y = 13\n",
      "x - y = 7\n",
      "x * y = 30\n",
      "x / y = 3.3333333333333335\n",
      "x // y = 3\n",
      "x % y = 1\n",
      "x ** y = 1000\n",
      "Hello, AI Student\n",
      "Uppercase: AI STUDENT\n",
      "Length: 10\n",
      "List: [1, 2, 3, 4, 5]\n",
      "First element: 1\n",
      "Slice [1:4]: [2, 3, 4]\n",
      "After append: [1, 2, 3, 4, 5, 6]\n"
     ]
    }
   ],
   "source": [
    "# Variables and basic operations\n",
    "x = 10\n",
    "y = 3\n",
    "\n",
    "print(\"x + y =\", x + y)\n",
    "print(\"x - y =\", x - y)\n",
    "print(\"x * y =\", x * y)\n",
    "print(\"x / y =\", x / y)\n",
    "print(\"x // y =\", x // y)  # integer division\n",
    "print(\"x % y =\", x % y)    # remainder\n",
    "print(\"x ** y =\", x ** y)  # exponentiation\n",
    "\n",
    "# Strings\n",
    "name = \"AI Student\"\n",
    "print(\"Hello, \" + name)\n",
    "print(\"Uppercase:\", name.upper())\n",
    "print(\"Length:\", len(name))\n",
    "\n",
    "# Lists\n",
    "numbers = [1, 2, 3, 4, 5]\n",
    "print(\"List:\", numbers)\n",
    "print(\"First element:\", numbers[0])\n",
    "print(\"Slice [1:4]:\", numbers[1:4])\n",
    "numbers.append(6)\n",
    "print(\"After append:\", numbers)"
   ]
  },
  {
   "cell_type": "markdown",
   "id": "BEjZ53wayepi",
   "metadata": {
    "id": "BEjZ53wayepi"
   },
   "source": [
    "## 2. Loops"
   ]
  },
  {
   "cell_type": "code",
   "execution_count": null,
   "id": "Xp88oyKqyepi",
   "metadata": {
    "colab": {
     "base_uri": "https://localhost:8080/"
    },
    "id": "Xp88oyKqyepi",
    "outputId": "0287e68f-1ecc-429c-fd13-a5810619a8a8"
   },
   "outputs": [
    {
     "name": "stdout",
     "output_type": "stream",
     "text": [
      "For loop example:\n",
      "1 2 3 4 5 6 \n",
      "\n",
      "While loop example:\n",
      "0 1 2 3 4 "
     ]
    }
   ],
   "source": [
    "# For loop\n",
    "print(\"For loop example:\")\n",
    "for num in numbers:\n",
    "    print(num, end=\" \")\n",
    "\n",
    "# While loop\n",
    "print(\"\\n\\nWhile loop example:\")\n",
    "count = 0\n",
    "while count < 5:\n",
    "    print(count, end=\" \")\n",
    "    count += 1"
   ]
  },
  {
   "cell_type": "markdown",
   "id": "TejNBpIHyepi",
   "metadata": {
    "id": "TejNBpIHyepi"
   },
   "source": [
    "## 3. Conditionals (If-Else)"
   ]
  },
  {
   "cell_type": "code",
   "execution_count": 1,
   "id": "foMk-z3Qyepi",
   "metadata": {
    "colab": {
     "base_uri": "https://localhost:8080/"
    },
    "executionInfo": {
     "elapsed": 10,
     "status": "ok",
     "timestamp": 1758159254542,
     "user": {
      "displayName": "Benjamin",
      "userId": "11683795603864326972"
     },
     "user_tz": 420
    },
    "id": "foMk-z3Qyepi",
    "outputId": "b1eedc20-dd38-4001-8add-276c0b63dbb6"
   },
   "outputs": [
    {
     "name": "stdout",
     "output_type": "stream",
     "text": [
      "Number is odd\n",
      "Positive and odd\n"
     ]
    }
   ],
   "source": [
    "num = 7\n",
    "if num % 2 == 0:\n",
    "    print(\"\\n\\nNumber is even\")\n",
    "else:\n",
    "    print(\"Number is odd\")\n",
    "\n",
    "# Nested if\n",
    "if num > 0:\n",
    "    if num % 2 == 0:\n",
    "        print(\"Positive and even\")\n",
    "    else:\n",
    "        print(\"Positive and odd\")"
   ]
  },
  {
   "cell_type": "markdown",
   "id": "gpELb3_Cyepi",
   "metadata": {
    "id": "gpELb3_Cyepi"
   },
   "source": [
    "## 4. Functions"
   ]
  },
  {
   "cell_type": "code",
   "execution_count": null,
   "id": "bMErxulxyepj",
   "metadata": {
    "colab": {
     "base_uri": "https://localhost:8080/"
    },
    "id": "bMErxulxyepj",
    "outputId": "c76bf275-a752-40c8-8138-e3463e1434ae"
   },
   "outputs": [
    {
     "name": "stdout",
     "output_type": "stream",
     "text": [
      "\n",
      "Original array: [1 2 3 4]\n",
      "Squared array: [ 1  4  9 16]\n",
      "Check 10: Positive\n",
      "Check -5: Negative\n",
      "Check 0: Zero\n"
     ]
    }
   ],
   "source": [
    "import numpy as np\n",
    "\n",
    "# Function to square a number or array\n",
    "def square_array(arr):\n",
    "    \"\"\"Returns squared array\"\"\"\n",
    "    return arr ** 2\n",
    "\n",
    "sample_array = np.array([1, 2, 3, 4])\n",
    "print(\"\\nOriginal array:\", sample_array)\n",
    "print(\"Squared array:\", square_array(sample_array))\n",
    "\n",
    "# Function with conditional\n",
    "def check_number(n):\n",
    "    if n > 0:\n",
    "        return \"Positive\"\n",
    "    elif n < 0:\n",
    "        return \"Negative\"\n",
    "    else:\n",
    "        return \"Zero\"\n",
    "\n",
    "print(\"Check 10:\", check_number(10))\n",
    "print(\"Check -5:\", check_number(-5))\n",
    "print(\"Check 0:\", check_number(0))"
   ]
  },
  {
   "cell_type": "markdown",
   "id": "MpflyRYfyepj",
   "metadata": {
    "id": "MpflyRYfyepj"
   },
   "source": [
    "## 5. NumPy Basics"
   ]
  },
  {
   "cell_type": "code",
   "execution_count": null,
   "id": "1Y2vZ-T4yepj",
   "metadata": {
    "colab": {
     "base_uri": "https://localhost:8080/"
    },
    "id": "1Y2vZ-T4yepj",
    "outputId": "d9a5d617-7c75-481f-caab-6d8dfc3a3b27"
   },
   "outputs": [
    {
     "name": "stdout",
     "output_type": "stream",
     "text": [
      "\n",
      "1D array: [1 2 3 4 5]\n",
      "2D array:\n",
      " [[1 2]\n",
      " [3 4]]\n",
      "arr1 + 10: [11 12 13 14 15]\n",
      "arr1 * 2: [ 2  4  6  8 10]\n",
      "arr1 squared: [ 1  4  9 16 25]\n",
      "Sum: 15\n",
      "Mean: 3.0\n",
      "Std Dev: 1.4142135623730951\n",
      "arr1[0]: 1\n",
      "arr1[1:4]: [2 3 4]\n",
      "arr2[:,1]: [2 4]\n"
     ]
    }
   ],
   "source": [
    "# Create arrays\n",
    "arr1 = np.array([1, 2, 3, 4, 5])\n",
    "arr2 = np.array([[1, 2], [3, 4]])\n",
    "\n",
    "print(\"\\n1D array:\", arr1)\n",
    "print(\"2D array:\\n\", arr2)\n",
    "\n",
    "# Array operations\n",
    "print(\"arr1 + 10:\", arr1 + 10)\n",
    "print(\"arr1 * 2:\", arr1 * 2)\n",
    "print(\"arr1 squared:\", arr1 ** 2)\n",
    "\n",
    "# Aggregation\n",
    "print(\"Sum:\", np.sum(arr1))\n",
    "print(\"Mean:\", np.mean(arr1))\n",
    "print(\"Std Dev:\", np.std(arr1))\n",
    "\n",
    "# Indexing & slicing\n",
    "print(\"arr1[0]:\", arr1[0])\n",
    "print(\"arr1[1:4]:\", arr1[1:4])\n",
    "print(\"arr2[:,1]:\", arr2[:,1])"
   ]
  },
  {
   "cell_type": "code",
   "execution_count": null,
   "id": "XWgEVVf7e5Ka",
   "metadata": {
    "id": "XWgEVVf7e5Ka"
   },
   "outputs": [],
   "source": []
  },
  {
   "cell_type": "markdown",
   "id": "jiF9d8xVyepj",
   "metadata": {
    "id": "jiF9d8xVyepj"
   },
   "source": [
    "## 6. Practical Mini Exercise (AI-Oriented)"
   ]
  },
  {
   "cell_type": "code",
   "execution_count": null,
   "id": "1fu9sETryepj",
   "metadata": {
    "colab": {
     "base_uri": "https://localhost:8080/",
     "height": 752
    },
    "id": "1fu9sETryepj",
    "outputId": "d695d709-f9e1-4df7-83e0-78745a0a84b2"
   },
   "outputs": [
    {
     "name": "stdout",
     "output_type": "stream",
     "text": [
      "\n",
      "Features:\n",
      " [[0.29215855 0.2880294  0.9531197 ]\n",
      " [0.44931345 0.3330758  0.46392588]\n",
      " [0.67155676 0.99969146 0.79265102]\n",
      " [0.67938212 0.61401491 0.34422493]\n",
      " [0.35202068 0.26122874 0.33218407]\n",
      " [0.84867071 0.78819913 0.53234653]\n",
      " [0.90545623 0.79775337 0.87046973]\n",
      " [0.83765309 0.93744385 0.99108373]\n",
      " [0.90936139 0.02081406 0.83384856]\n",
      " [0.19722403 0.68048859 0.99212408]]\n",
      "Mean of each feature: [0.6142797  0.57207393 0.71059782]\n",
      "Values > 0.5: [0.9531197  0.67155676 0.99969146 0.79265102 0.67938212 0.61401491\n",
      " 0.84867071 0.78819913 0.53234653 0.90545623 0.79775337 0.87046973\n",
      " 0.83765309 0.93744385 0.99108373 0.90936139 0.83384856 0.68048859\n",
      " 0.99212408]\n"
     ]
    },
    {
     "data": {
      "image/png": "[encoded data removed]",
      "text/plain": [
       "<Figure size 640x480 with 1 Axes>"
      ]
     },
     "metadata": {},
     "output_type": "display_data"
    }
   ],
   "source": [
    "# Generate random dataset representing features\n",
    "features = np.random.rand(10, 3)  # 10 samples, 3 features each\n",
    "print(\"\\nFeatures:\\n\", features)\n",
    "\n",
    "# Calculate mean of each feature\n",
    "mean_features = np.mean(features, axis=0)\n",
    "print(\"Mean of each feature:\", mean_features)\n",
    "\n",
    "# Filter feature values > 0.5\n",
    "filtered_features = features[features > 0.5]\n",
    "print(\"Values > 0.5:\", filtered_features)\n",
    "\n",
    "# Plot first feature distribution\n",
    "import matplotlib.pyplot as plt\n",
    "plt.hist(features[:,0], bins=5, color='skyblue', edgecolor='black')\n",
    "plt.title(\"Distribution of Feature 1\")\n",
    "plt.show()"
   ]
  },
  {
   "cell_type": "markdown",
   "id": "eEkKz4ADyepj",
   "metadata": {
    "id": "eEkKz4ADyepj"
   },
   "source": [
    "## 7. Conclusion\n",
    "\n",
    "This notebook has covered the essential Python skills for AI:\n",
    "1. Variables, basic data types, lists, strings\n",
    "2. Loops and conditionals\n",
    "3. Functions\n",
    "4. NumPy arrays, operations, aggregation, indexing\n",
    "5. Hands-on mini-exercises with arrays and plots\n"
   ]
  },
  {
   "cell_type": "markdown",
   "id": "82344372",
   "metadata": {},
   "source": [
    "## 8. PySpark Setup\n"
   ]
  },
  {
   "cell_type": "code",
   "execution_count": null,
   "id": "f6a4687f",
   "metadata": {},
   "outputs": [],
   "source": [
    "# Setup: install and import\n",
    "!pip install pyspark\n",
    "from pyspark.sql import SparkSession\n",
    "from pyspark.sql.functions import *\n",
    "from pyspark.sql.types import *\n",
    "import pandas as pd\n",
    "import os\n"
   ]
  },
  {
   "cell_type": "code",
   "execution_count": null,
   "id": "8isO_rL5y0ps",
   "metadata": {
    "id": "8isO_rL5y0ps"
   },
   "outputs": [],
   "source": []
  }
 ],
 "metadata": {
  "colab": {
   "provenance": []
  },
  "kernelspec": {
   "display_name": "Python 3",
   "language": "python",
   "name": "python3"
  },
  "language_info": {
   "name": "python",
   "version": "3.11"
  }
 },
 "nbformat": 4,
 "nbformat_minor": 5
}
